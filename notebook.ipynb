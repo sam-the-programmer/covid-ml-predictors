{
 "cells": [
  {
   "cell_type": "code",
   "execution_count": null,
   "metadata": {},
   "outputs": [],
   "source": [
    "CONTEXT = 21"
   ]
  },
  {
   "cell_type": "code",
   "execution_count": null,
   "metadata": {},
   "outputs": [],
   "source": [
    "import warnings\n",
    "\n",
    "warnings.filterwarnings(\"ignore\")\n",
    "from zipfile import ZipFile # For reading the data from within the zip file\n",
    "\n",
    "import matplotlib.pyplot as plt\n",
    "import numpy as np\n",
    "import pandas as pd\n",
    "import pandasql as ps\n",
    "from catboost import CatBoostRegressor\n",
    "from lightgbm import LGBMRegressor\n",
    "from matplotlib.style import use\n",
    "from sklearn.ensemble import (AdaBoostRegressor, GradientBoostingRegressor,\n",
    "                              RandomForestRegressor)\n",
    "from sklearn.impute import SimpleImputer\n",
    "from sklearn.linear_model import (BayesianRidge, ElasticNet, HuberRegressor,\n",
    "                                  Lars, Lasso, LinearRegression, Ridge)\n",
    "from sklearn.metrics import mean_absolute_error\n",
    "from sklearn.model_selection import train_test_split\n",
    "from sklearn.neighbors import KNeighborsRegressor\n",
    "from sklearn.neural_network import MLPRegressor\n",
    "from sklearn.svm import SVR\n",
    "from sklearn.tree import DecisionTreeRegressor, ExtraTreeRegressor\n",
    "from sklearn.utils import shuffle\n",
    "from xgboost import XGBRegressor\n",
    "\n",
    "use(\"ggplot\")\n",
    "\n",
    "%matplotlib inline\n"
   ]
  },
  {
   "cell_type": "code",
   "execution_count": null,
   "metadata": {},
   "outputs": [],
   "source": [
    "with ZipFile(\"data/archive.zip\", 'r') as file:\n",
    "\twith file.open(\"England_Regions_COVID_Dataset.csv\") as raw:\n",
    "\t\traw = pd.read_csv(raw)"
   ]
  },
  {
   "cell_type": "markdown",
   "metadata": {},
   "source": [
    "## Data Preprocessing"
   ]
  },
  {
   "cell_type": "code",
   "execution_count": null,
   "metadata": {},
   "outputs": [],
   "source": [
    "def get_cases(region) -> pd.DataFrame:\n",
    "\treturn ps.sqldf(\n",
    "\t    f\"\"\"\n",
    "SELECT date, areaName, newCasesByPublishDate FROM raw\n",
    "WHERE areaName = \"{region}\"\n",
    "ORDER BY date\n",
    "\"\"\"\n",
    "\t).fillna(0)[\"newCasesByPublishDate\"]"
   ]
  },
  {
   "cell_type": "code",
   "execution_count": null,
   "metadata": {},
   "outputs": [],
   "source": [
    "data = pd.DataFrame()\n",
    "data[\"London\"] = get_cases(\"London\")\n",
    "data[\"South West\"] = get_cases(\"South West\")\n",
    "data[\"North West\"] = get_cases(\"North West\")\n",
    "data[\"East England\"] = get_cases(\"East of England\")\n",
    "data[\"East Midlands\"] = get_cases(\"East Midlands\")\n",
    "\n",
    "imp = SimpleImputer(strategy=\"mean\")\n",
    "data = pd.DataFrame(imp.fit_transform(data), columns=data.columns, index=data.index)"
   ]
  },
  {
   "cell_type": "code",
   "execution_count": null,
   "metadata": {},
   "outputs": [],
   "source": [
    "plt.figure(figsize=(24, 10))\n",
    "\n",
    "for column in data:\n",
    "\tplt.plot(data[[column]], label=column)\n",
    "\n",
    "plt.legend()\n",
    "plt.show()"
   ]
  },
  {
   "cell_type": "code",
   "execution_count": null,
   "metadata": {},
   "outputs": [],
   "source": [
    "X = data[[\"London\"]]\n",
    "\n",
    "for i in range(1, CONTEXT + 1):\n",
    "\tX[str(i)] = X.iloc(axis=1)[-1].shift(1)\n",
    "\n",
    "X.columns = range(CONTEXT + 1)\n",
    "X = X.dropna()\n",
    "\n",
    "y = X[CONTEXT]\n",
    "X.drop(CONTEXT, axis=1, inplace=True)\n",
    "\n",
    "X = X.values"
   ]
  },
  {
   "cell_type": "markdown",
   "metadata": {},
   "source": [
    "# Models"
   ]
  },
  {
   "cell_type": "code",
   "execution_count": null,
   "metadata": {},
   "outputs": [],
   "source": [
    "X, y = shuffle(X, y)"
   ]
  },
  {
   "cell_type": "code",
   "execution_count": null,
   "metadata": {},
   "outputs": [],
   "source": [
    "X_train, X_valid, y_train, y_valid = train_test_split(X, y)"
   ]
  },
  {
   "cell_type": "code",
   "execution_count": null,
   "metadata": {},
   "outputs": [],
   "source": [
    "def predict(model, y, x):\n",
    "    predictions = np.array(\n",
    "        list(\n",
    "            zip(\n",
    "                range(len(y)),\n",
    "                np.array(sorted(list(zip(y, model.predict(x))), key=lambda x: x[1])).T[0],\n",
    "                np.array(sorted(list(zip(y, model.predict(x))), key=lambda x: x[1])).T[1]\n",
    "            )\n",
    "        )\n",
    "    ).T\n",
    "    tp = str(type(model)).split(\".\")[-1][:-2]\n",
    "\n",
    "    print(f\"{tp} MAE: {mean_absolute_error(y, model.predict(x))}\")\n",
    "    return predictions"
   ]
  },
  {
   "cell_type": "code",
   "execution_count": null,
   "metadata": {},
   "outputs": [],
   "source": [
    "def get_predictions(model, X_train, X_valid, y_train, y_valid, fit_params: dict = {}, **params):\n",
    "\ttp = str(type(model(**params))).split(\".\")[-1][:-2]\n",
    "\n",
    "\tmodel = model(**params)\n",
    "\tmodel.fit(X_train, y_train, **fit_params)\n",
    "\n",
    "\tpredictions = predict(model, y_valid, X_valid)\n",
    "\n",
    "\tplt.figure(figsize=(24, 4))\n",
    "\n",
    "\tplt.title(f\"{tp}: Predictions to Targets\")\n",
    "\tplt.scatter(predictions[0], predictions[1], label=\"True Values\", marker=\"v\")\n",
    "\tplt.scatter(predictions[0], predictions[2], label=\"Predicted Values\", marker=\"x\")\n",
    "\tplt.legend()\n",
    "\tplt.show()\n",
    "\n",
    "\treturn model"
   ]
  },
  {
   "cell_type": "markdown",
   "metadata": {},
   "source": [
    "## Model Selection: Loss\n",
    "\n",
    "The following contains plots of the models' predictions compared to the labels of the validation data."
   ]
  },
  {
   "cell_type": "code",
   "execution_count": null,
   "metadata": {},
   "outputs": [],
   "source": [
    "get_predictions(AdaBoostRegressor, X_train, X_valid, y_train, y_valid)\n",
    "get_predictions(BayesianRidge, X_train, X_valid, y_train, y_valid)\n",
    "get_predictions(CatBoostRegressor, X_train, X_valid, y_train, y_valid, {\"verbose\": False})\n",
    "get_predictions(DecisionTreeRegressor, X_train, X_valid, y_train, y_valid)\n",
    "get_predictions(ElasticNet, X_train, X_valid, y_train, y_valid)\n",
    "get_predictions(ExtraTreeRegressor, X_train, X_valid, y_train, y_valid)\n",
    "get_predictions(GradientBoostingRegressor, X_train, X_valid, y_train, y_valid)\n",
    "get_predictions(HuberRegressor, X_train, X_valid, y_train, y_valid)\n",
    "get_predictions(KNeighborsRegressor, X_train, X_valid, y_train, y_valid)\n",
    "get_predictions(Lars, X_train, X_valid, y_train, y_valid)\n",
    "get_predictions(Lasso, X_train, X_valid, y_train, y_valid)\n",
    "get_predictions(LGBMRegressor, X_train, X_valid, y_train, y_valid)\n",
    "get_predictions(LinearRegression, X_train, X_valid, y_train, y_valid)\n",
    "get_predictions(MLPRegressor, X_train, X_valid, y_train, y_valid)\n",
    "get_predictions(RandomForestRegressor, X_train, X_valid, y_train, y_valid)\n",
    "get_predictions(Ridge, X_train, X_valid, y_train, y_valid)\n",
    "get_predictions(SVR, X_train, X_valid, y_train, y_valid, kernel=\"poly\")\n",
    "get_predictions(XGBRegressor, X_train, X_valid, y_train, y_valid)"
   ]
  },
  {
   "cell_type": "markdown",
   "metadata": {},
   "source": [
    "# Forecasting"
   ]
  },
  {
   "cell_type": "code",
   "execution_count": null,
   "metadata": {},
   "outputs": [],
   "source": [
    "def forecast(length: int, X, y, model: type = HuberRegressor, init_params:dict = {}, fit_params: dict = {}):\n",
    "\tfrom copy import deepcopy\n",
    "\n",
    "\tmodel = model(**init_params)\n",
    "\tmodel.fit(X, y, **fit_params)\n",
    "\n",
    "\tprediction = []\n",
    "\tX = list(list(deepcopy(X.T))[0][-CONTEXT:])\n",
    "\n",
    "\tfor _ in range(length):\n",
    "\t\tp = model.predict([X])\n",
    "\t\tprediction.append(p)\n",
    "\t\tX.append(p)\n",
    "\t\tX = X[1:]\n",
    "\t\n",
    "\treturn [i[0] for i in prediction]\n",
    "\n",
    "forecast(10, X, y)"
   ]
  }
 ],
 "metadata": {
  "interpreter": {
   "hash": "4fbf6404002d0a4d14703db0d53d21c4aa8598221b5c3ecc9361646752151991"
  },
  "kernelspec": {
   "display_name": "Python 3.9.2 64-bit",
   "language": "python",
   "name": "python3"
  },
  "language_info": {
   "codemirror_mode": {
    "name": "ipython",
    "version": 3
   },
   "file_extension": ".py",
   "mimetype": "text/x-python",
   "name": "python",
   "nbconvert_exporter": "python",
   "pygments_lexer": "ipython3",
   "version": "3.9.2"
  },
  "orig_nbformat": 4
 },
 "nbformat": 4,
 "nbformat_minor": 2
}
